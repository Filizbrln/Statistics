{
 "cells": [
  {
   "cell_type": "markdown",
   "metadata": {},
   "source": [
    "It is assumed that the mean systolic blood pressure is μ = 120 mm Hg. In the Honolulu Heart Study, a sample of n = 100 people had an average systolic blood pressure of 130.1 mm Hg with a standard deviation of 21.21 mm Hg. Is the group significantly different (with respect to systolic blood pressure!) from the regular population?\n",
    "\n",
    "Set up the hypothesis test.\n",
    "Write down all the steps followed for setting up the test.\n",
    "Calculate the test statistic by hand and also code it in Python. It should be 4.76190. What decision can you make based on this calculated value?\n",
    "\n"
   ]
  },
  {
   "cell_type": "code",
   "execution_count": null,
   "metadata": {},
   "outputs": [],
   "source": [
    "# There is one group being being compared against a standart value, eg 120 mm Hg\n",
    "# sample_size > 30  --> normal distribution\n",
    "#Population's standart deviation is unknownd, we should use t test...\n",
    "# one sample, one tailed test\n",
    "mu = 120\n",
    "sample_size = 100\n",
    "x_bar = 130.1\n",
    "sample_std = 21.21\n",
    "\n",
    "H0 = 'mu  = 120'\n",
    "H1 = 'mu != 120'\n",
    "\n",
    "sampling_error = x_bar - mu\n",
    "confidence_level = 0.95\n",
    "significance_level = 1 - confidence_level"
   ]
  },
  {
   "cell_type": "code",
   "execution_count": 72,
   "metadata": {},
   "outputs": [],
   "source": [
    "from scipy.stats import t\n"
   ]
  },
  {
   "cell_type": "code",
   "execution_count": 51,
   "metadata": {},
   "outputs": [],
   "source": [
    "def t(mu, m, sample_size, sample_std):\n",
    "    return (m-mu)/(sample_std/pow(sample_size, 0.5))\n"
   ]
  },
  {
   "cell_type": "code",
   "execution_count": 52,
   "metadata": {},
   "outputs": [
    {
     "data": {
      "text/plain": [
       "4.761904761904759"
      ]
     },
     "execution_count": 52,
     "metadata": {},
     "output_type": "execute_result"
    }
   ],
   "source": [
    "t(120, 130.1, 100, 21.21)\n"
   ]
  },
  {
   "cell_type": "code",
   "execution_count": 26,
   "metadata": {},
   "outputs": [],
   "source": [
    "from scipy.stats import t\n"
   ]
  },
  {
   "cell_type": "code",
   "execution_count": 27,
   "metadata": {},
   "outputs": [],
   "source": [
    "t_critical = abs(t.ppf(q=.05, df=99))\n",
    "\n"
   ]
  },
  {
   "cell_type": "code",
   "execution_count": 28,
   "metadata": {},
   "outputs": [
    {
     "data": {
      "text/plain": [
       "1.6603911559963902"
      ]
     },
     "execution_count": 28,
     "metadata": {},
     "output_type": "execute_result"
    }
   ],
   "source": [
    "t_critical"
   ]
  },
  {
   "cell_type": "code",
   "execution_count": 56,
   "metadata": {},
   "outputs": [],
   "source": [
    "#  4.76>1.66 Ho hypohhesis rejected..."
   ]
  },
  {
   "cell_type": "code",
   "execution_count": null,
   "metadata": {},
   "outputs": [],
   "source": []
  },
  {
   "cell_type": "markdown",
   "metadata": {},
   "source": [
    "We will have another simple example on two sample one sided t test. In a packing plant, a machine packs cartons with jars. It is supposed that a new machine will pack faster on the average than the machine currently used. To test that hypothesis, the times it takes each machine to pack ten cartons are recorded. The results, in seconds, are shown in the tables in the file Data/machine.txt. Assume that there is sufficient evidence to conduct the t test, does the data provide sufficient evidence to show if one machine is better than the other"
   ]
  },
  {
   "cell_type": "code",
   "execution_count": null,
   "metadata": {},
   "outputs": [],
   "source": [
    "# Ho: Mnew-Mold=0\n",
    "# H1: Mnew<Mold"
   ]
  },
  {
   "cell_type": "code",
   "execution_count": null,
   "metadata": {},
   "outputs": [],
   "source": []
  },
  {
   "cell_type": "code",
   "execution_count": 29,
   "metadata": {},
   "outputs": [],
   "source": [
    "with open('Data_Machine.txt') as f:\n",
    "    lines = f.readlines()\n"
   ]
  },
  {
   "cell_type": "code",
   "execution_count": 30,
   "metadata": {},
   "outputs": [
    {
     "data": {
      "text/plain": [
       "['New Machine\\t  Old Machine\\n',\n",
       " '42.1\\t        42.7\\n',\n",
       " '41\\t          43.6\\n',\n",
       " '41.3\\t        43.8\\n',\n",
       " '41.8\\t        43.3\\n',\n",
       " '42.4\\t        42.5\\n',\n",
       " '42.8\\t        43.5\\n',\n",
       " '43.2\\t        43.1\\n',\n",
       " '42.3\\t        41.7\\n',\n",
       " '41.8\\t        44\\n',\n",
       " '42.7\\t        44.1\\n']"
      ]
     },
     "execution_count": 30,
     "metadata": {},
     "output_type": "execute_result"
    }
   ],
   "source": [
    "lines"
   ]
  },
  {
   "cell_type": "code",
   "execution_count": 31,
   "metadata": {},
   "outputs": [],
   "source": [
    "all_list = list()\n",
    "new_machine = list()\n",
    "old_machine = list()\n",
    "for line in lines:\n",
    "    for word in line.split(\"\\t\"):\n",
    "        all_list.append(word)\n"
   ]
  },
  {
   "cell_type": "code",
   "execution_count": 32,
   "metadata": {},
   "outputs": [],
   "source": [
    "all_list = all_list[2:]\n"
   ]
  },
  {
   "cell_type": "code",
   "execution_count": 33,
   "metadata": {
    "jupyter": {
     "source_hidden": true
    }
   },
   "outputs": [
    {
     "data": {
      "text/plain": [
       "['42.1',\n",
       " '        42.7\\n',\n",
       " '41',\n",
       " '          43.6\\n',\n",
       " '41.3',\n",
       " '        43.8\\n',\n",
       " '41.8',\n",
       " '        43.3\\n',\n",
       " '42.4',\n",
       " '        42.5\\n',\n",
       " '42.8',\n",
       " '        43.5\\n',\n",
       " '43.2',\n",
       " '        43.1\\n',\n",
       " '42.3',\n",
       " '        41.7\\n',\n",
       " '41.8',\n",
       " '        44\\n',\n",
       " '42.7',\n",
       " '        44.1\\n']"
      ]
     },
     "execution_count": 33,
     "metadata": {},
     "output_type": "execute_result"
    }
   ],
   "source": [
    "all_list"
   ]
  },
  {
   "cell_type": "code",
   "execution_count": 34,
   "metadata": {},
   "outputs": [],
   "source": [
    "for i in all_list:\n",
    "    if all_list.index(i) % 2 == 0:\n",
    "        new_machine.append(float(i))\n",
    "    else:\n",
    "        old_machine.append(float(i.strip()))\n"
   ]
  },
  {
   "cell_type": "code",
   "execution_count": 35,
   "metadata": {},
   "outputs": [
    {
     "data": {
      "text/plain": [
       "[42.1, 41.0, 41.3, 41.8, 42.4, 42.8, 43.2, 42.3, 41.8, 42.7]"
      ]
     },
     "execution_count": 35,
     "metadata": {},
     "output_type": "execute_result"
    }
   ],
   "source": [
    "new_machine"
   ]
  },
  {
   "cell_type": "code",
   "execution_count": 36,
   "metadata": {},
   "outputs": [
    {
     "data": {
      "text/plain": [
       "[42.7, 43.6, 43.8, 43.3, 42.5, 43.5, 43.1, 41.7, 44.0, 44.1]"
      ]
     },
     "execution_count": 36,
     "metadata": {},
     "output_type": "execute_result"
    }
   ],
   "source": [
    "old_machine"
   ]
  },
  {
   "cell_type": "code",
   "execution_count": 37,
   "metadata": {},
   "outputs": [],
   "source": [
    "def avg(container: list) -> float:\n",
    "    return sum(container)/len(container)\n"
   ]
  },
  {
   "cell_type": "code",
   "execution_count": 38,
   "metadata": {},
   "outputs": [],
   "source": [
    "def std_(container: list) -> float:\n",
    "    degree_of_freedom = len(container) - 1\n",
    "    total = 0\n",
    "    average = avg(container)\n",
    "    for i in container:\n",
    "        total += pow(average - i, 2)\n",
    "    return total/pow(degree_of_freedom, 0.5)\n"
   ]
  },
  {
   "cell_type": "code",
   "execution_count": 39,
   "metadata": {},
   "outputs": [],
   "source": [
    "new_avg = avg(new_machine)\n",
    "\n"
   ]
  },
  {
   "cell_type": "code",
   "execution_count": 40,
   "metadata": {},
   "outputs": [
    {
     "data": {
      "text/plain": [
       "42.14"
      ]
     },
     "execution_count": 40,
     "metadata": {},
     "output_type": "execute_result"
    }
   ],
   "source": [
    "new_avg"
   ]
  },
  {
   "cell_type": "code",
   "execution_count": 41,
   "metadata": {},
   "outputs": [],
   "source": [
    "old_avg = avg(old_machine)\n"
   ]
  },
  {
   "cell_type": "code",
   "execution_count": 42,
   "metadata": {},
   "outputs": [
    {
     "data": {
      "text/plain": [
       "43.230000000000004"
      ]
     },
     "execution_count": 42,
     "metadata": {},
     "output_type": "execute_result"
    }
   ],
   "source": [
    "old_avg"
   ]
  },
  {
   "cell_type": "code",
   "execution_count": 43,
   "metadata": {},
   "outputs": [],
   "source": [
    "new_std = std_(new_machine)\n"
   ]
  },
  {
   "cell_type": "code",
   "execution_count": 44,
   "metadata": {},
   "outputs": [
    {
     "data": {
      "text/plain": [
       "1.4013333333333373"
      ]
     },
     "execution_count": 44,
     "metadata": {},
     "output_type": "execute_result"
    }
   ],
   "source": [
    "new_std"
   ]
  },
  {
   "cell_type": "code",
   "execution_count": 45,
   "metadata": {},
   "outputs": [],
   "source": [
    "old_std = std_(old_machine)"
   ]
  },
  {
   "cell_type": "code",
   "execution_count": 46,
   "metadata": {},
   "outputs": [
    {
     "data": {
      "text/plain": [
       "1.6869999999999958"
      ]
     },
     "execution_count": 46,
     "metadata": {},
     "output_type": "execute_result"
    }
   ],
   "source": [
    "old_std"
   ]
  },
  {
   "cell_type": "code",
   "execution_count": 71,
   "metadata": {},
   "outputs": [],
   "source": [
    "from scipy.stats import ttest_ind\n"
   ]
  },
  {
   "cell_type": "code",
   "execution_count": 57,
   "metadata": {},
   "outputs": [
    {
     "ename": "TypeError",
     "evalue": "ttest_ind() got an unexpected keyword argument 'alternative'",
     "output_type": "error",
     "traceback": [
      "\u001b[1;31m---------------------------------------------------------------------------\u001b[0m",
      "\u001b[1;31mTypeError\u001b[0m                                 Traceback (most recent call last)",
      "\u001b[1;32m<ipython-input-57-73a8648e44dc>\u001b[0m in \u001b[0;36m<module>\u001b[1;34m\u001b[0m\n\u001b[1;32m----> 1\u001b[1;33m \u001b[0mt_value\u001b[0m \u001b[1;33m=\u001b[0m \u001b[0mttest_ind\u001b[0m\u001b[1;33m(\u001b[0m\u001b[0mnew_machine\u001b[0m\u001b[1;33m,\u001b[0m \u001b[0mold_machine\u001b[0m\u001b[1;33m,\u001b[0m \u001b[0malternative\u001b[0m\u001b[1;33m=\u001b[0m\u001b[1;34m'less'\u001b[0m\u001b[1;33m)\u001b[0m\u001b[1;33m\u001b[0m\u001b[1;33m\u001b[0m\u001b[0m\n\u001b[0m",
      "\u001b[1;31mTypeError\u001b[0m: ttest_ind() got an unexpected keyword argument 'alternative'"
     ]
    }
   ],
   "source": [
    "# t_value = ttest_ind(new_machine, old_machine, alternative='less')  # it doesn't works\n"
   ]
  },
  {
   "cell_type": "code",
   "execution_count": 58,
   "metadata": {},
   "outputs": [],
   "source": [
    "t_value = ttest_ind(new_machine, old_machine) # ?????? it works..."
   ]
  },
  {
   "cell_type": "code",
   "execution_count": 59,
   "metadata": {},
   "outputs": [
    {
     "data": {
      "text/plain": [
       "Ttest_indResult(statistic=-3.3972307061176026, pvalue=0.0032111425007745158)"
      ]
     },
     "execution_count": 59,
     "metadata": {},
     "output_type": "execute_result"
    }
   ],
   "source": [
    "t_value"
   ]
  },
  {
   "cell_type": "code",
   "execution_count": 63,
   "metadata": {},
   "outputs": [
    {
     "name": "stdout",
     "output_type": "stream",
     "text": [
      "Requirement already up-to-date: scipy in c:\\users\\oezkan\\anaconda3\\lib\\site-packages (1.7.1)\n",
      "Requirement already satisfied, skipping upgrade: numpy<1.23.0,>=1.16.5 in c:\\users\\oezkan\\anaconda3\\lib\\site-packages (from scipy) (1.19.2)\n"
     ]
    }
   ],
   "source": [
    "!pip install --upgrade scipy\n"
   ]
  },
  {
   "cell_type": "code",
   "execution_count": 64,
   "metadata": {},
   "outputs": [
    {
     "ename": "TypeError",
     "evalue": "ttest_ind() got an unexpected keyword argument 'alternative'",
     "output_type": "error",
     "traceback": [
      "\u001b[1;31m---------------------------------------------------------------------------\u001b[0m",
      "\u001b[1;31mTypeError\u001b[0m                                 Traceback (most recent call last)",
      "\u001b[1;32m<ipython-input-64-fc92f773babc>\u001b[0m in \u001b[0;36m<module>\u001b[1;34m\u001b[0m\n\u001b[1;32m----> 1\u001b[1;33m \u001b[0mt_value\u001b[0m \u001b[1;33m=\u001b[0m \u001b[0mttest_ind\u001b[0m\u001b[1;33m(\u001b[0m\u001b[0mnew_machine\u001b[0m\u001b[1;33m,\u001b[0m \u001b[0mold_machine\u001b[0m\u001b[1;33m,\u001b[0m \u001b[0malternative\u001b[0m\u001b[1;33m=\u001b[0m\u001b[1;34m'less'\u001b[0m\u001b[1;33m)\u001b[0m\u001b[1;33m\u001b[0m\u001b[1;33m\u001b[0m\u001b[0m\n\u001b[0m",
      "\u001b[1;31mTypeError\u001b[0m: ttest_ind() got an unexpected keyword argument 'alternative'"
     ]
    }
   ],
   "source": [
    "t_value = ttest_ind(new_machine, old_machine, alternative='less') "
   ]
  },
  {
   "cell_type": "code",
   "execution_count": 62,
   "metadata": {},
   "outputs": [
    {
     "ename": "TypeError",
     "evalue": "ttest_ind() got an unexpected keyword argument 'alternative'",
     "output_type": "error",
     "traceback": [
      "\u001b[1;31m---------------------------------------------------------------------------\u001b[0m",
      "\u001b[1;31mTypeError\u001b[0m                                 Traceback (most recent call last)",
      "\u001b[1;32m<ipython-input-62-73a8648e44dc>\u001b[0m in \u001b[0;36m<module>\u001b[1;34m\u001b[0m\n\u001b[1;32m----> 1\u001b[1;33m \u001b[0mt_value\u001b[0m \u001b[1;33m=\u001b[0m \u001b[0mttest_ind\u001b[0m\u001b[1;33m(\u001b[0m\u001b[0mnew_machine\u001b[0m\u001b[1;33m,\u001b[0m \u001b[0mold_machine\u001b[0m\u001b[1;33m,\u001b[0m \u001b[0malternative\u001b[0m\u001b[1;33m=\u001b[0m\u001b[1;34m'less'\u001b[0m\u001b[1;33m)\u001b[0m\u001b[1;33m\u001b[0m\u001b[1;33m\u001b[0m\u001b[0m\n\u001b[0m",
      "\u001b[1;31mTypeError\u001b[0m: ttest_ind() got an unexpected keyword argument 'alternative'"
     ]
    }
   ],
   "source": [
    "t_value = ttest_ind(new_machine, old_machine, alternative='less')"
   ]
  },
  {
   "cell_type": "code",
   "execution_count": 66,
   "metadata": {},
   "outputs": [],
   "source": [
    "import numpy as np"
   ]
  },
  {
   "cell_type": "code",
   "execution_count": 74,
   "metadata": {},
   "outputs": [
    {
     "name": "stdout",
     "output_type": "stream",
     "text": [
      "Our t statistic is: -1.57\n"
     ]
    }
   ],
   "source": [
    "\n",
    "t_calc = ( new_avg - old_avg ) / np.sqrt( ((new_std**2)/10) + ((old_std**2)/10 ) )\n",
    "\n",
    "print(\"Our t statistic is: {:.2f}\".format(t_calc))"
   ]
  },
  {
   "cell_type": "code",
   "execution_count": null,
   "metadata": {},
   "outputs": [],
   "source": [
    "# -1.57>-1.66 Ho has accepted"
   ]
  },
  {
   "cell_type": "code",
   "execution_count": 75,
   "metadata": {},
   "outputs": [],
   "source": [
    "t_critical = (t.ppf(q=.05, df=99))\n"
   ]
  },
  {
   "cell_type": "code",
   "execution_count": 76,
   "metadata": {},
   "outputs": [
    {
     "data": {
      "text/plain": [
       "-1.6603911559963902"
      ]
     },
     "execution_count": 76,
     "metadata": {},
     "output_type": "execute_result"
    }
   ],
   "source": [
    "t_critical"
   ]
  },
  {
   "cell_type": "code",
   "execution_count": null,
   "metadata": {},
   "outputs": [],
   "source": []
  },
  {
   "cell_type": "code",
   "execution_count": 49,
   "metadata": {},
   "outputs": [],
   "source": [
    "# 0.03<0.05  Ho rejected"
   ]
  },
  {
   "cell_type": "code",
   "execution_count": null,
   "metadata": {},
   "outputs": [],
   "source": []
  }
 ],
 "metadata": {
  "kernelspec": {
   "display_name": "Python 3",
   "language": "python",
   "name": "python3"
  },
  "language_info": {
   "codemirror_mode": {
    "name": "ipython",
    "version": 3
   },
   "file_extension": ".py",
   "mimetype": "text/x-python",
   "name": "python",
   "nbconvert_exporter": "python",
   "pygments_lexer": "ipython3",
   "version": "3.8.5"
  }
 },
 "nbformat": 4,
 "nbformat_minor": 5
}
